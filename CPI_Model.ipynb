{
 "cells": [
  {
   "cell_type": "code",
   "execution_count": 204,
   "metadata": {
    "collapsed": false,
    "nbpresent": {
     "id": "41426211-68f6-4fbe-9cd3-e656ccc02906"
    }
   },
   "outputs": [],
   "source": [
    "library(caret)\n",
    "country.code <- 'us'  # use yours\n",
    "url.pattern <- 'https://'  # use http if you want\n",
    "repo.data.frame <- subset(getCRANmirrors(), CountryCode == country.code & grepl(url.pattern, URL))\n",
    "options(repos = repo.data.frame$URL)"
   ]
  },
  {
   "cell_type": "markdown",
   "metadata": {
    "nbpresent": {
     "id": "10a06db3-7474-41df-a133-2526309d99a3"
    }
   },
   "source": [
    "# Background:\n",
    "\n",
    "An consulting organization seeks to predict the unit cost of a given product based on a number of variables in order to reduce the amonut of time they spend estimating supplier costs. Currently, when a request comes in, stakeholders contact a variety of vendors for cost estimates and combine this information with their own experience in order to provide an accurate cost estimate for their organization. "
   ]
  },
  {
   "cell_type": "markdown",
   "metadata": {
    "nbpresent": {
     "id": "d08c8e55-698f-4c47-b765-7a3420fac504"
    }
   },
   "source": [
    "# Variables\n",
    "\n",
    "* DV\n",
    "  * CPU: Cost Per Unit\n",
    "* IV\n",
    "  * Length: Product Length\n",
    "  * Incidence: Availability of product\n",
    "  * Region: Source of product\n",
    "  * Language: Language of product\n",
    "  \n",
    "Note: All other variables are not reliable"
   ]
  },
  {
   "cell_type": "code",
   "execution_count": 267,
   "metadata": {
    "collapsed": false,
    "nbpresent": {
     "id": "afcb9667-1d3e-4963-863b-8eaae3674e0b"
    }
   },
   "outputs": [
    {
     "data": {
      "text/html": [
       "<table>\n",
       "<thead><tr><th scope=col>Length</th><th scope=col>Incidence</th><th scope=col>CPU</th><th scope=col>Language</th><th scope=col>Region</th></tr></thead>\n",
       "<tbody>\n",
       "\t<tr><td>15           </td><td>0.60         </td><td> 6.0         </td><td>Spanish      </td><td>South America</td></tr>\n",
       "\t<tr><td>30           </td><td>0.60         </td><td> 9.0         </td><td>Spanish      </td><td>South America</td></tr>\n",
       "\t<tr><td>10           </td><td>0.20         </td><td>15.0         </td><td>English      </td><td>Other        </td></tr>\n",
       "\t<tr><td>10           </td><td>0.35         </td><td>13.0         </td><td>English      </td><td>Other        </td></tr>\n",
       "\t<tr><td>15           </td><td>0.10         </td><td>22.0         </td><td>English      </td><td>Other        </td></tr>\n",
       "\t<tr><td>15           </td><td>0.20         </td><td>15.5         </td><td>English      </td><td>Other        </td></tr>\n",
       "</tbody>\n",
       "</table>\n"
      ],
      "text/latex": [
       "\\begin{tabular}{r|lllll}\n",
       " Length & Incidence & CPU & Language & Region\\\\\n",
       "\\hline\n",
       "\t 15            & 0.60          &  6.0          & Spanish       & South America\\\\\n",
       "\t 30            & 0.60          &  9.0          & Spanish       & South America\\\\\n",
       "\t 10            & 0.20          & 15.0          & English       & Other        \\\\\n",
       "\t 10            & 0.35          & 13.0          & English       & Other        \\\\\n",
       "\t 15            & 0.10          & 22.0          & English       & Other        \\\\\n",
       "\t 15            & 0.20          & 15.5          & English       & Other        \\\\\n",
       "\\end{tabular}\n"
      ],
      "text/markdown": [
       "\n",
       "Length | Incidence | CPU | Language | Region | \n",
       "|---|---|---|---|---|---|\n",
       "| 15            | 0.60          |  6.0          | Spanish       | South America | \n",
       "| 30            | 0.60          |  9.0          | Spanish       | South America | \n",
       "| 10            | 0.20          | 15.0          | English       | Other         | \n",
       "| 10            | 0.35          | 13.0          | English       | Other         | \n",
       "| 15            | 0.10          | 22.0          | English       | Other         | \n",
       "| 15            | 0.20          | 15.5          | English       | Other         | \n",
       "\n",
       "\n"
      ],
      "text/plain": [
       "  Length Incidence CPU  Language Region       \n",
       "1 15     0.60       6.0 Spanish  South America\n",
       "2 30     0.60       9.0 Spanish  South America\n",
       "3 10     0.20      15.0 English  Other        \n",
       "4 10     0.35      13.0 English  Other        \n",
       "5 15     0.10      22.0 English  Other        \n",
       "6 15     0.20      15.5 English  Other        "
      ]
     },
     "metadata": {},
     "output_type": "display_data"
    },
    {
     "data": {
      "text/html": [
       "<table>\n",
       "<thead><tr><th scope=col>Length</th><th scope=col>Incidence</th><th scope=col>CPU</th><th scope=col>Language</th><th scope=col>Region</th><th scope=col>I2</th><th scope=col>IncLength</th></tr></thead>\n",
       "<tbody>\n",
       "\t<tr><td>15           </td><td>60           </td><td> 6.0         </td><td>Other        </td><td>South America</td><td>3600         </td><td> 90          </td></tr>\n",
       "\t<tr><td>30           </td><td>60           </td><td> 9.0         </td><td>Other        </td><td>South America</td><td>3600         </td><td>180          </td></tr>\n",
       "\t<tr><td>10           </td><td>20           </td><td>15.0         </td><td>English      </td><td>Other        </td><td> 400         </td><td> 20          </td></tr>\n",
       "\t<tr><td>10           </td><td>35           </td><td>13.0         </td><td>English      </td><td>Other        </td><td>1225         </td><td> 35          </td></tr>\n",
       "\t<tr><td>15           </td><td>10           </td><td>22.0         </td><td>English      </td><td>Other        </td><td> 100         </td><td> 15          </td></tr>\n",
       "\t<tr><td>15           </td><td>20           </td><td>15.5         </td><td>English      </td><td>Other        </td><td> 400         </td><td> 30          </td></tr>\n",
       "</tbody>\n",
       "</table>\n"
      ],
      "text/latex": [
       "\\begin{tabular}{r|lllllll}\n",
       " Length & Incidence & CPU & Language & Region & I2 & IncLength\\\\\n",
       "\\hline\n",
       "\t 15            & 60            &  6.0          & Other         & South America & 3600          &  90          \\\\\n",
       "\t 30            & 60            &  9.0          & Other         & South America & 3600          & 180          \\\\\n",
       "\t 10            & 20            & 15.0          & English       & Other         &  400          &  20          \\\\\n",
       "\t 10            & 35            & 13.0          & English       & Other         & 1225          &  35          \\\\\n",
       "\t 15            & 10            & 22.0          & English       & Other         &  100          &  15          \\\\\n",
       "\t 15            & 20            & 15.5          & English       & Other         &  400          &  30          \\\\\n",
       "\\end{tabular}\n"
      ],
      "text/markdown": [
       "\n",
       "Length | Incidence | CPU | Language | Region | I2 | IncLength | \n",
       "|---|---|---|---|---|---|\n",
       "| 15            | 60            |  6.0          | Other         | South America | 3600          |  90           | \n",
       "| 30            | 60            |  9.0          | Other         | South America | 3600          | 180           | \n",
       "| 10            | 20            | 15.0          | English       | Other         |  400          |  20           | \n",
       "| 10            | 35            | 13.0          | English       | Other         | 1225          |  35           | \n",
       "| 15            | 10            | 22.0          | English       | Other         |  100          |  15           | \n",
       "| 15            | 20            | 15.5          | English       | Other         |  400          |  30           | \n",
       "\n",
       "\n"
      ],
      "text/plain": [
       "  Length Incidence CPU  Language Region        I2   IncLength\n",
       "1 15     60         6.0 Other    South America 3600  90      \n",
       "2 30     60         9.0 Other    South America 3600 180      \n",
       "3 10     20        15.0 English  Other          400  20      \n",
       "4 10     35        13.0 English  Other         1225  35      \n",
       "5 15     10        22.0 English  Other          100  15      \n",
       "6 15     20        15.5 English  Other          400  30      "
      ]
     },
     "metadata": {},
     "output_type": "display_data"
    }
   ],
   "source": [
    "## Source Data\n",
    "\n",
    "source <- read.csv('cpi.csv')    \n",
    "country_map <- read.csv('country_map.csv')\n",
    "cols_to_drop = c('Methodology', 'Total.Quota', 'Max.Feasibility', 'Internet.Penetration', 'Recommended...Online', 'Translation.with.Edit', 'Comment.One', 'Comment.Two', 'Comment.Three', 'Country', 'OrigCountryCount')\n",
    "df <- drop_cols(merge(source, country_map, on='Country'), cols_to_drop)\n",
    "\n",
    "head(df)\n",
    "\n",
    "## Data Transformations\n",
    "\n",
    "drop_cols <- function(df, cols_to_drop){\n",
    "    for (col in cols_to_drop){\n",
    "        df[[col]] = NULL\n",
    "    }\n",
    "    return(df)\n",
    "}\n",
    "\n",
    "df$Language <- ifelse(df$Language != 'English', 'Other', 'English')\n",
    "df$Incidence <- (df$Incidence) * 100\n",
    "df$I2 <- (df$Incidence ^ 2)\n",
    "#df$HighCost <- ifelse(df$CPI >= 15, 1, 0)\n",
    "df$IncLength <- (df$Incidence * df$Length) / 10\n",
    "\n",
    "head(df)"
   ]
  },
  {
   "cell_type": "code",
   "execution_count": 301,
   "metadata": {
    "collapsed": false,
    "nbpresent": {
     "id": "465afcd7-f233-463a-802e-c503eabcfbb8"
    }
   },
   "outputs": [
    {
     "name": "stdout",
     "output_type": "stream",
     "text": [
      "+ Fold01: intercept=TRUE \n",
      "- Fold01: intercept=TRUE \n",
      "+ Fold02: intercept=TRUE \n",
      "- Fold02: intercept=TRUE \n",
      "+ Fold03: intercept=TRUE \n",
      "- Fold03: intercept=TRUE \n",
      "+ Fold04: intercept=TRUE \n",
      "- Fold04: intercept=TRUE \n",
      "+ Fold05: intercept=TRUE \n",
      "- Fold05: intercept=TRUE \n",
      "+ Fold06: intercept=TRUE \n",
      "- Fold06: intercept=TRUE \n",
      "+ Fold07: intercept=TRUE \n",
      "- Fold07: intercept=TRUE \n",
      "+ Fold08: intercept=TRUE \n",
      "- Fold08: intercept=TRUE \n",
      "+ Fold09: intercept=TRUE \n",
      "- Fold09: intercept=TRUE \n",
      "+ Fold10: intercept=TRUE \n",
      "- Fold10: intercept=TRUE \n",
      "+ Fold11: intercept=TRUE \n",
      "- Fold11: intercept=TRUE \n",
      "+ Fold12: intercept=TRUE \n",
      "- Fold12: intercept=TRUE \n",
      "+ Fold13: intercept=TRUE \n",
      "- Fold13: intercept=TRUE \n",
      "+ Fold14: intercept=TRUE \n",
      "- Fold14: intercept=TRUE \n",
      "+ Fold15: intercept=TRUE \n",
      "- Fold15: intercept=TRUE \n",
      "+ Fold16: intercept=TRUE \n",
      "- Fold16: intercept=TRUE \n",
      "+ Fold17: intercept=TRUE \n",
      "- Fold17: intercept=TRUE \n",
      "+ Fold18: intercept=TRUE \n",
      "- Fold18: intercept=TRUE \n",
      "+ Fold19: intercept=TRUE \n",
      "- Fold19: intercept=TRUE \n",
      "+ Fold20: intercept=TRUE \n",
      "- Fold20: intercept=TRUE \n",
      "Aggregating results\n",
      "Fitting final model on full training set\n"
     ]
    }
   ],
   "source": [
    "# Fit model\n",
    "\n",
    "set.seed(998)\n",
    "inTraining <- createDataPartition(df$CPU, p = .5, list = FALSE)\n",
    "train_df <- df[inTraining, ]\n",
    "test_df <- df[-inTraining, ]\n",
    "\n",
    "set.seed(42)\n",
    "\n",
    "model <- train(\n",
    "    CPU ~ ., train_df,\n",
    "    method = 'lm',\n",
    "    trControl = trainControl(\n",
    "        method = 'cv', number = 20,\n",
    "        repeats = 5, verboseIter = TRUE\n",
    "    )\n",
    ")"
   ]
  },
  {
   "cell_type": "code",
   "execution_count": 273,
   "metadata": {
    "collapsed": false
   },
   "outputs": [
    {
     "name": "stdout",
     "output_type": "stream",
     "text": [
      "Linear Regression \n",
      "\n",
      "616 samples\n",
      "  6 predictor\n",
      "\n",
      "No pre-processing\n",
      "Resampling: Cross-Validated (20 fold) \n",
      "Summary of sample sizes: 585, 585, 585, 586, 585, 584, ... \n",
      "Resampling results:\n",
      "\n",
      "  RMSE      Rsquared \n",
      "  2.324251  0.7731117\n",
      "\n",
      "Tuning parameter 'intercept' was held constant at a value of TRUE\n",
      " \n"
     ]
    },
    {
     "data": {
      "text/plain": [
       "\n",
       "Call:\n",
       "lm(formula = .outcome ~ ., data = dat)\n",
       "\n",
       "Residuals:\n",
       "    Min      1Q  Median      3Q     Max \n",
       "-5.3461 -1.3931 -0.4713  0.8255 17.4839 \n",
       "\n",
       "Coefficients:\n",
       "                        Estimate Std. Error t value Pr(>|t|)    \n",
       "(Intercept)           13.0141780  0.8014888  16.238  < 2e-16 ***\n",
       "Length                 0.2507340  0.0297348   8.432 2.48e-16 ***\n",
       "Incidence             -0.3630712  0.0237309 -15.300  < 2e-16 ***\n",
       "LanguageOther          0.4623761  0.3131378   1.477   0.1403    \n",
       "RegionEurope          -0.6408046  0.2546877  -2.516   0.0121 *  \n",
       "`RegionNorth America` -0.7299827  0.3547041  -2.058   0.0400 *  \n",
       "RegionOther            3.8105411  0.5007837   7.609 1.06e-13 ***\n",
       "`RegionSouth America` -0.1488951  0.3262453  -0.456   0.6483    \n",
       "I2                     0.0023568  0.0002116  11.138  < 2e-16 ***\n",
       "IncLength              0.0029280  0.0065755   0.445   0.6563    \n",
       "---\n",
       "Signif. codes:  0 '***' 0.001 '**' 0.01 '*' 0.05 '.' 0.1 ' ' 1\n",
       "\n",
       "Residual standard error: 2.402 on 606 degrees of freedom\n",
       "Multiple R-squared:  0.7579,\tAdjusted R-squared:  0.7543 \n",
       "F-statistic: 210.8 on 9 and 606 DF,  p-value: < 2.2e-16\n"
      ]
     },
     "metadata": {},
     "output_type": "display_data"
    }
   ],
   "source": [
    "print(model)\n",
    "summary(model)"
   ]
  },
  {
   "cell_type": "code",
   "execution_count": 236,
   "metadata": {
    "collapsed": false
   },
   "outputs": [
    {
     "data": {
      "text/html": [
       "<table>\n",
       "<thead><tr><th></th><th scope=col>2.5 %</th><th scope=col>97.5 %</th></tr></thead>\n",
       "<tbody>\n",
       "\t<tr><th scope=row>(Intercept)</th><td> 9.296511368</td><td>10.851363478</td></tr>\n",
       "\t<tr><th scope=row>Survey.Length</th><td> 0.160284960</td><td> 0.201743315</td></tr>\n",
       "\t<tr><th scope=row>Incidence</th><td>-0.227238412</td><td>-0.173346462</td></tr>\n",
       "\t<tr><th scope=row>LanguageOther</th><td> 0.115547346</td><td> 0.934650816</td></tr>\n",
       "\t<tr><th scope=row>RegionEurope</th><td>-0.492537139</td><td> 0.177068621</td></tr>\n",
       "\t<tr><th scope=row>`RegionNorth America`</th><td>-0.656750759</td><td> 0.274193908</td></tr>\n",
       "\t<tr><th scope=row>RegionOther</th><td> 1.599006355</td><td> 2.927285060</td></tr>\n",
       "\t<tr><th scope=row>`RegionSouth America`</th><td>-0.160050723</td><td> 0.695106763</td></tr>\n",
       "\t<tr><th scope=row>I2</th><td> 0.000715078</td><td> 0.001300937</td></tr>\n",
       "\t<tr><th scope=row>HighCost</th><td> 5.823497968</td><td> 6.716243669</td></tr>\n",
       "</tbody>\n",
       "</table>\n"
      ],
      "text/latex": [
       "\\begin{tabular}{r|ll}\n",
       "  & 2.5 \\% & 97.5 \\%\\\\\n",
       "\\hline\n",
       "\t(Intercept) &  9.296511368 & 10.851363478\\\\\n",
       "\tSurvey.Length &  0.160284960 &  0.201743315\\\\\n",
       "\tIncidence & -0.227238412 & -0.173346462\\\\\n",
       "\tLanguageOther &  0.115547346 &  0.934650816\\\\\n",
       "\tRegionEurope & -0.492537139 &  0.177068621\\\\\n",
       "\t`RegionNorth America` & -0.656750759 &  0.274193908\\\\\n",
       "\tRegionOther &  1.599006355 &  2.927285060\\\\\n",
       "\t`RegionSouth America` & -0.160050723 &  0.695106763\\\\\n",
       "\tI2 &  0.000715078 &  0.001300937\\\\\n",
       "\tHighCost &  5.823497968 &  6.716243669\\\\\n",
       "\\end{tabular}\n"
      ],
      "text/markdown": [
       "\n",
       "| <!--/--> | 2.5 % | 97.5 % | \n",
       "|---|---|---|---|---|---|---|---|---|---|\n",
       "| (Intercept) |  9.296511368 | 10.851363478 | \n",
       "| Survey.Length |  0.160284960 |  0.201743315 | \n",
       "| Incidence | -0.227238412 | -0.173346462 | \n",
       "| LanguageOther |  0.115547346 |  0.934650816 | \n",
       "| RegionEurope | -0.492537139 |  0.177068621 | \n",
       "| `RegionNorth America` | -0.656750759 |  0.274193908 | \n",
       "| RegionOther |  1.599006355 |  2.927285060 | \n",
       "| `RegionSouth America` | -0.160050723 |  0.695106763 | \n",
       "| I2 |  0.000715078 |  0.001300937 | \n",
       "| HighCost |  5.823497968 |  6.716243669 | \n",
       "\n",
       "\n"
      ],
      "text/plain": [
       "                      2.5 %        97.5 %      \n",
       "(Intercept)            9.296511368 10.851363478\n",
       "Survey.Length          0.160284960  0.201743315\n",
       "Incidence             -0.227238412 -0.173346462\n",
       "LanguageOther          0.115547346  0.934650816\n",
       "RegionEurope          -0.492537139  0.177068621\n",
       "`RegionNorth America` -0.656750759  0.274193908\n",
       "RegionOther            1.599006355  2.927285060\n",
       "`RegionSouth America` -0.160050723  0.695106763\n",
       "I2                     0.000715078  0.001300937\n",
       "HighCost               5.823497968  6.716243669"
      ]
     },
     "metadata": {},
     "output_type": "display_data"
    }
   ],
   "source": [
    "confint(model$finalModel)"
   ]
  },
  {
   "cell_type": "code",
   "execution_count": 237,
   "metadata": {
    "collapsed": false,
    "scrolled": false
   },
   "outputs": [
    {
     "data": {
      "image/png": "[encoded data removed]",
      "text/plain": [
       "Plot with title \"\""
      ]
     },
     "metadata": {},
     "output_type": "display_data"
    },
    {
     "data": {
      "image/png": "[encoded data removed]",
      "text/plain": [
       "Plot with title \"\""
      ]
     },
     "metadata": {},
     "output_type": "display_data"
    },
    {
     "data": {
      "image/png": "[encoded data removed]",
      "text/plain": [
       "Plot with title \"\""
      ]
     },
     "metadata": {},
     "output_type": "display_data"
    },
    {
     "data": {
      "image/png": "[encoded data removed]",
      "text/plain": [
       "Plot with title \"\""
      ]
     },
     "metadata": {},
     "output_type": "display_data"
    }
   ],
   "source": [
    "plot(model$finalModel)"
   ]
  },
  {
   "cell_type": "code",
   "execution_count": 308,
   "metadata": {
    "collapsed": false,
    "nbpresent": {
     "id": "ad0cb8ee-9725-4171-9807-041a5ff7630d"
    }
   },
   "outputs": [
    {
     "data": {
      "text/html": [
       "2.67925794627927"
      ],
      "text/latex": [
       "2.67925794627927"
      ],
      "text/markdown": [
       "2.67925794627927"
      ],
      "text/plain": [
       "[1] 2.679258"
      ]
     },
     "metadata": {},
     "output_type": "display_data"
    },
    {
     "data": {
      "text/html": [
       "<dl class=dl-horizontal>\n",
       "\t<dt>2</dt>\n",
       "\t\t<dd>8.07697318185278</dd>\n",
       "\t<dt>3</dt>\n",
       "\t\t<dd>13.0719202550803</dd>\n",
       "\t<dt>4</dt>\n",
       "\t\t<dd>9.61414325655561</dd>\n",
       "\t<dt>7</dt>\n",
       "\t\t<dd>13.0917570260634</dd>\n",
       "\t<dt>11</dt>\n",
       "\t\t<dd>6.94186352398339</dd>\n",
       "\t<dt>12</dt>\n",
       "\t\t<dd>18.5029279788583</dd>\n",
       "</dl>\n"
      ],
      "text/latex": [
       "\\begin{description*}\n",
       "\\item[2] 8.07697318185278\n",
       "\\item[3] 13.0719202550803\n",
       "\\item[4] 9.61414325655561\n",
       "\\item[7] 13.0917570260634\n",
       "\\item[11] 6.94186352398339\n",
       "\\item[12] 18.5029279788583\n",
       "\\end{description*}\n"
      ],
      "text/markdown": [
       "2\n",
       ":   8.076973181852783\n",
       ":   13.07192025508034\n",
       ":   9.614143256555617\n",
       ":   13.091757026063411\n",
       ":   6.9418635239833912\n",
       ":   18.5029279788583\n",
       "\n"
      ],
      "text/plain": [
       "        2         3         4         7        11        12 \n",
       " 8.076973 13.071920  9.614143 13.091757  6.941864 18.502928 "
      ]
     },
     "metadata": {},
     "output_type": "display_data"
    }
   ],
   "source": [
    "# Test model\n",
    "#test1 <- test_df[1,]\n",
    "p <- predict(model, test_df, interval=\"prediction\")\n",
    "actuals <- test_df$CPU\n",
    "error <- (p - actuals)\n",
    "\n",
    "sqrt(mean(error ^ 2))\n",
    "head(p)"
   ]
  },
  {
   "cell_type": "code",
   "execution_count": 276,
   "metadata": {
    "collapsed": false,
    "nbpresent": {
     "id": "673d7d77-6519-4b68-a6f3-24eb725fcf36"
    }
   },
   "outputs": [
    {
     "data": {
      "image/png": "[encoded data removed]",
      "text/plain": [
       "plot without title"
      ]
     },
     "metadata": {},
     "output_type": "display_data"
    }
   ],
   "source": [
    "plot(p, actuals)"
   ]
  },
  {
   "cell_type": "code",
   "execution_count": 235,
   "metadata": {
    "collapsed": false
   },
   "outputs": [
    {
     "data": {
      "image/png": "[encoded data removed]",
      "text/plain": [
       "plot without title"
      ]
     },
     "metadata": {},
     "output_type": "display_data"
    }
   ],
   "source": [
    "bump <- p * 1.15\n",
    "bump_error <- bump - actuals\n",
    "plot(bump_error, actuals)"
   ]
  }
 ],
 "metadata": {
  "anaconda-cloud": {},
  "kernelspec": {
   "display_name": "R",
   "language": "R",
   "name": "ir"
  },
  "language_info": {
   "codemirror_mode": "r",
   "file_extension": ".r",
   "mimetype": "text/x-r-source",
   "name": "R",
   "pygments_lexer": "r",
   "version": "3.3.2"
  },
  "nbpresent": {
   "slides": {
    "234dc560-b0ca-47e9-b527-56fd44d8f09b": {
     "id": "234dc560-b0ca-47e9-b527-56fd44d8f09b",
     "prev": "741e477e-751b-443a-ac4e-a2aa74ffce66",
     "regions": {
      "4476a8f4-4287-47e6-b0dc-bb2872d3b84a": {
       "attrs": {
        "height": 1,
        "width": 1,
        "x": 0,
        "y": 0
       },
       "content": {
        "cell": "d08c8e55-698f-4c47-b765-7a3420fac504",
        "part": "source"
       },
       "id": "4476a8f4-4287-47e6-b0dc-bb2872d3b84a"
      }
     }
    },
    "73d051a5-331f-49d7-94dd-a436826eb877": {
     "id": "73d051a5-331f-49d7-94dd-a436826eb877",
     "prev": "7694c54c-c0ab-4b6b-bb26-2407c1be5030",
     "regions": {
      "2cebc7f3-bacd-4bac-9424-043293142b0e": {
       "attrs": {
        "height": 0.8,
        "width": 0.8,
        "x": 0.1,
        "y": 0.1
       },
       "content": {
        "cell": "673d7d77-6519-4b68-a6f3-24eb725fcf36",
        "part": "whole"
       },
       "id": "2cebc7f3-bacd-4bac-9424-043293142b0e"
      }
     }
    },
    "741e477e-751b-443a-ac4e-a2aa74ffce66": {
     "id": "741e477e-751b-443a-ac4e-a2aa74ffce66",
     "prev": null,
     "regions": {
      "4bd0f786-0d04-481c-9ebc-a767ad3ff30e": {
       "attrs": {
        "height": 0.8,
        "width": 0.8,
        "x": 0.1,
        "y": 0.1
       },
       "content": {
        "cell": "10a06db3-7474-41df-a133-2526309d99a3",
        "part": "source"
       },
       "id": "4bd0f786-0d04-481c-9ebc-a767ad3ff30e"
      }
     }
    },
    "762b66ef-e4bf-4797-aca2-c40eeafa5f1c": {
     "id": "762b66ef-e4bf-4797-aca2-c40eeafa5f1c",
     "prev": "f51ca259-04eb-4fd1-8ad4-b09ff6bd1823",
     "regions": {
      "56e2d308-86d6-4071-9e4e-2b88aadf861a": {
       "attrs": {
        "height": 0.8,
        "width": 0.8,
        "x": 0.1,
        "y": 0.1
       },
       "content": {
        "cell": "ad0cb8ee-9725-4171-9807-041a5ff7630d",
        "part": "whole"
       },
       "id": "56e2d308-86d6-4071-9e4e-2b88aadf861a"
      }
     }
    },
    "7694c54c-c0ab-4b6b-bb26-2407c1be5030": {
     "id": "7694c54c-c0ab-4b6b-bb26-2407c1be5030",
     "prev": "762b66ef-e4bf-4797-aca2-c40eeafa5f1c",
     "regions": {
      "e61465c1-6b8c-47f5-912b-45351fb8958d": {
       "attrs": {
        "height": 0.8,
        "width": 0.8,
        "x": 0.1,
        "y": 0.1
       },
       "content": {
        "cell": "7b30ec80-e3f9-4328-9b64-c61ea41ef0fb",
        "part": "whole"
       },
       "id": "e61465c1-6b8c-47f5-912b-45351fb8958d"
      }
     }
    },
    "c10eca4b-418b-4805-9952-6906cfa44244": {
     "id": "c10eca4b-418b-4805-9952-6906cfa44244",
     "prev": "234dc560-b0ca-47e9-b527-56fd44d8f09b",
     "regions": {
      "77fc2830-32d8-4b13-a641-2dc9defe6705": {
       "attrs": {
        "height": 0.8,
        "width": 0.8,
        "x": 0.1,
        "y": 0.1
       },
       "content": {
        "cell": "afcb9667-1d3e-4963-863b-8eaae3674e0b",
        "part": "outputs"
       },
       "id": "77fc2830-32d8-4b13-a641-2dc9defe6705"
      }
     }
    },
    "f51ca259-04eb-4fd1-8ad4-b09ff6bd1823": {
     "id": "f51ca259-04eb-4fd1-8ad4-b09ff6bd1823",
     "prev": "c10eca4b-418b-4805-9952-6906cfa44244",
     "regions": {
      "dbcdca67-07cf-4b5f-93eb-cfa5901dd124": {
       "attrs": {
        "height": 0.8,
        "width": 0.8,
        "x": 0.1,
        "y": 0.1
       },
       "content": {
        "cell": "465afcd7-f233-463a-802e-c503eabcfbb8",
        "part": "whole"
       },
       "id": "dbcdca67-07cf-4b5f-93eb-cfa5901dd124"
      }
     }
    }
   },
   "themes": {
    "default": "9bcd80a2-9a65-4f1b-bec0-e4896cb538e7",
    "theme": {
     "9bcd80a2-9a65-4f1b-bec0-e4896cb538e7": {
      "backgrounds": {
       "backgroundColor": {
        "background-color": "backgroundColor",
        "id": "backgroundColor"
       }
      },
      "id": "9bcd80a2-9a65-4f1b-bec0-e4896cb538e7",
      "palette": {
       "backgroundColor": {
        "id": "backgroundColor",
        "rgb": [
         256,
         256,
         256
        ]
       },
       "headingColor": {
        "id": "headingColor",
        "rgb": [
         34,
         34,
         34
        ]
       },
       "linkColor": {
        "id": "linkColor",
        "rgb": [
         42,
         118,
         221
        ]
       },
       "mainColor": {
        "id": "mainColor",
        "rgb": [
         34,
         34,
         34
        ]
       }
      },
      "rules": {
       "a": {
        "color": "linkColor"
       },
       "h1": {
        "color": "headingColor",
        "font-family": "Source Sans Pro",
        "font-size": 5.25
       },
       "h2": {
        "color": "headingColor",
        "font-family": "Source Sans Pro",
        "font-size": 4
       },
       "h3": {
        "color": "headingColor",
        "font-family": "Source Sans Pro",
        "font-size": 3.5
       },
       "h4": {
        "color": "headingColor",
        "font-family": "Source Sans Pro",
        "font-size": 3
       },
       "h5": {
        "color": "headingColor",
        "font-family": "Source Sans Pro"
       },
       "h6": {
        "color": "headingColor",
        "font-family": "Source Sans Pro"
       },
       "h7": {
        "color": "headingColor",
        "font-family": "Source Sans Pro"
       },
       "li": {
        "color": "mainColor",
        "font-family": "Source Sans Pro",
        "font-size": 6
       },
       "p": {
        "color": "mainColor",
        "font-family": "Source Sans Pro",
        "font-size": 6
       }
      },
      "text-base": {
       "color": "mainColor",
       "font-family": "Source Sans Pro",
       "font-size": 6
      }
     }
    }
   }
  }
 },
 "nbformat": 4,
 "nbformat_minor": 1
}
