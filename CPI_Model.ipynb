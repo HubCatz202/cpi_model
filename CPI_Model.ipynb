{
 "cells": [
  {
   "cell_type": "code",
   "execution_count": 71,
   "metadata": {
    "collapsed": false
   },
   "outputs": [],
   "source": [
    "library(caret)\n",
    "country.code <- 'us'  # use yours\n",
    "url.pattern <- 'https://'  # use http if you want\n",
    "repo.data.frame <- subset(getCRANmirrors(), CountryCode == country.code & grepl(url.pattern, URL))\n",
    "options(repos = repo.data.frame$URL)"
   ]
  },
  {
   "cell_type": "code",
   "execution_count": 159,
   "metadata": {
    "collapsed": false
   },
   "outputs": [
    {
     "data": {
      "text/html": [
       "<table>\n",
       "<thead><tr><th scope=col>Survey.Length</th><th scope=col>Incidence</th><th scope=col>CPI</th><th scope=col>Language</th><th scope=col>Region</th><th scope=col>I2</th></tr></thead>\n",
       "<tbody>\n",
       "\t<tr><td>15           </td><td>60           </td><td> 6.0         </td><td>Other        </td><td>South America</td><td>3600         </td></tr>\n",
       "\t<tr><td>30           </td><td>60           </td><td> 9.0         </td><td>Other        </td><td>South America</td><td>3600         </td></tr>\n",
       "\t<tr><td>10           </td><td>20           </td><td>15.0         </td><td>English      </td><td>Other        </td><td> 400         </td></tr>\n",
       "\t<tr><td>10           </td><td>35           </td><td>13.0         </td><td>English      </td><td>Other        </td><td>1225         </td></tr>\n",
       "\t<tr><td>15           </td><td>10           </td><td>22.0         </td><td>English      </td><td>Other        </td><td> 100         </td></tr>\n",
       "\t<tr><td>15           </td><td>20           </td><td>15.5         </td><td>English      </td><td>Other        </td><td> 400         </td></tr>\n",
       "</tbody>\n",
       "</table>\n"
      ],
      "text/latex": [
       "\\begin{tabular}{r|llllll}\n",
       " Survey.Length & Incidence & CPI & Language & Region & I2\\\\\n",
       "\\hline\n",
       "\t 15            & 60            &  6.0          & Other         & South America & 3600         \\\\\n",
       "\t 30            & 60            &  9.0          & Other         & South America & 3600         \\\\\n",
       "\t 10            & 20            & 15.0          & English       & Other         &  400         \\\\\n",
       "\t 10            & 35            & 13.0          & English       & Other         & 1225         \\\\\n",
       "\t 15            & 10            & 22.0          & English       & Other         &  100         \\\\\n",
       "\t 15            & 20            & 15.5          & English       & Other         &  400         \\\\\n",
       "\\end{tabular}\n"
      ],
      "text/markdown": [
       "\n",
       "Survey.Length | Incidence | CPI | Language | Region | I2 | \n",
       "|---|---|---|---|---|---|\n",
       "| 15            | 60            |  6.0          | Other         | South America | 3600          | \n",
       "| 30            | 60            |  9.0          | Other         | South America | 3600          | \n",
       "| 10            | 20            | 15.0          | English       | Other         |  400          | \n",
       "| 10            | 35            | 13.0          | English       | Other         | 1225          | \n",
       "| 15            | 10            | 22.0          | English       | Other         |  100          | \n",
       "| 15            | 20            | 15.5          | English       | Other         |  400          | \n",
       "\n",
       "\n"
      ],
      "text/plain": [
       "  Survey.Length Incidence CPI  Language Region        I2  \n",
       "1 15            60         6.0 Other    South America 3600\n",
       "2 30            60         9.0 Other    South America 3600\n",
       "3 10            20        15.0 English  Other          400\n",
       "4 10            35        13.0 English  Other         1225\n",
       "5 15            10        22.0 English  Other          100\n",
       "6 15            20        15.5 English  Other          400"
      ]
     },
     "metadata": {},
     "output_type": "display_data"
    }
   ],
   "source": [
    "drop_cols <- function(df, cols_to_drop){\n",
    "    for (col in cols_to_drop){\n",
    "        df[[col]] = NULL\n",
    "    }\n",
    "    return(df)\n",
    "}\n",
    "\n",
    "source <- read.csv('cpi.csv')\n",
    "    \n",
    "country_map <- read.csv('country_map.csv')\n",
    "cols_to_drop = c('Methodology', 'Total.Quota', 'Max.Feasibility', 'Internet.Penetration', 'Recommended...Online', 'Translation.with.Edit', 'Comment.One', 'Comment.Two', 'Comment.Three', 'Country', 'OrigCountryCount')\n",
    "\n",
    "df <- drop_cols(merge(source, country_map, on='Country'), cols_to_drop)\n",
    "\n",
    "df$Language <- ifelse(df$Language != 'English', 'Other', 'English')\n",
    "\n",
    "df$Incidence <- df$Incidence * 100\n",
    "df$I2 <- (df$Incidence ^ 2)\n",
    "\n",
    "\n",
    "head(df)\n",
    "\n",
    "set.seed(998)\n",
    "inTraining <- createDataPartition(df$CPI, p = .75, list = FALSE)\n",
    "train_df <- df[inTraining, ]\n",
    "test_df <- df[-inTraining, ]"
   ]
  },
  {
   "cell_type": "code",
   "execution_count": 160,
   "metadata": {
    "collapsed": false
   },
   "outputs": [
    {
     "name": "stdout",
     "output_type": "stream",
     "text": [
      "+ Fold01: intercept=TRUE \n",
      "- Fold01: intercept=TRUE \n",
      "+ Fold02: intercept=TRUE \n",
      "- Fold02: intercept=TRUE \n",
      "+ Fold03: intercept=TRUE \n",
      "- Fold03: intercept=TRUE \n",
      "+ Fold04: intercept=TRUE \n",
      "- Fold04: intercept=TRUE \n",
      "+ Fold05: intercept=TRUE \n",
      "- Fold05: intercept=TRUE \n",
      "+ Fold06: intercept=TRUE \n",
      "- Fold06: intercept=TRUE \n",
      "+ Fold07: intercept=TRUE \n",
      "- Fold07: intercept=TRUE \n",
      "+ Fold08: intercept=TRUE \n",
      "- Fold08: intercept=TRUE \n",
      "+ Fold09: intercept=TRUE \n",
      "- Fold09: intercept=TRUE \n",
      "+ Fold10: intercept=TRUE \n",
      "- Fold10: intercept=TRUE \n",
      "+ Fold11: intercept=TRUE \n",
      "- Fold11: intercept=TRUE \n",
      "+ Fold12: intercept=TRUE \n",
      "- Fold12: intercept=TRUE \n",
      "+ Fold13: intercept=TRUE \n",
      "- Fold13: intercept=TRUE \n",
      "+ Fold14: intercept=TRUE \n",
      "- Fold14: intercept=TRUE \n",
      "+ Fold15: intercept=TRUE \n",
      "- Fold15: intercept=TRUE \n",
      "+ Fold16: intercept=TRUE \n",
      "- Fold16: intercept=TRUE \n",
      "+ Fold17: intercept=TRUE \n",
      "- Fold17: intercept=TRUE \n",
      "+ Fold18: intercept=TRUE \n",
      "- Fold18: intercept=TRUE \n",
      "+ Fold19: intercept=TRUE \n",
      "- Fold19: intercept=TRUE \n",
      "+ Fold20: intercept=TRUE \n",
      "- Fold20: intercept=TRUE \n",
      "Aggregating results\n",
      "Fitting final model on full training set\n",
      "Linear Regression \n",
      "\n",
      "925 samples\n",
      "  5 predictor\n",
      "\n",
      "No pre-processing\n",
      "Resampling: Cross-Validated (20 fold) \n",
      "Summary of sample sizes: 880, 879, 880, 879, 878, 878, ... \n",
      "Resampling results:\n",
      "\n",
      "  RMSE      Rsquared \n",
      "  2.402318  0.7550124\n",
      "\n",
      "Tuning parameter 'intercept' was held constant at a value of TRUE\n",
      " \n"
     ]
    }
   ],
   "source": [
    "set.seed(42)\n",
    "\n",
    "model <- train(\n",
    "    CPI ~ ., train_df,\n",
    "    method = 'lm',\n",
    "    trControl = trainControl(\n",
    "        method = 'cv', number = 20,\n",
    "        repeats = 5, verboseIter = TRUE\n",
    "    )\n",
    ")\n",
    "\n",
    "print (model)"
   ]
  },
  {
   "cell_type": "code",
   "execution_count": 161,
   "metadata": {
    "collapsed": false
   },
   "outputs": [
    {
     "data": {
      "text/html": [
       "2.64739235380546"
      ],
      "text/latex": [
       "2.64739235380546"
      ],
      "text/markdown": [
       "2.64739235380546"
      ],
      "text/plain": [
       "[1] 2.647392"
      ]
     },
     "metadata": {},
     "output_type": "display_data"
    }
   ],
   "source": [
    "p <- predict(model, test_df)\n",
    "actuals <- test_df$CPI\n",
    "error <- (p - actuals)\n",
    "\n",
    "sqrt(mean(error ^ 2))"
   ]
  },
  {
   "cell_type": "code",
   "execution_count": 162,
   "metadata": {
    "collapsed": false
   },
   "outputs": [
    {
     "data": {
      "text/plain": [
       "\n",
       "Call:\n",
       "lm(formula = .outcome ~ ., data = dat)\n",
       "\n",
       "Residuals:\n",
       "    Min      1Q  Median      3Q     Max \n",
       "-9.3360 -1.3563 -0.4513  0.7462 21.9401 \n",
       "\n",
       "Coefficients:\n",
       "                       Estimate Std. Error t value Pr(>|t|)    \n",
       "(Intercept)           12.683322   0.494146  25.667  < 2e-16 ***\n",
       "Survey.Length          0.258961   0.012731  20.342  < 2e-16 ***\n",
       "Incidence             -0.350657   0.015976 -21.949  < 2e-16 ***\n",
       "LanguageOther          0.475050   0.272463   1.744 0.081575 .  \n",
       "RegionEurope          -0.774437   0.214421  -3.612 0.000321 ***\n",
       "`RegionNorth America` -0.304860   0.309435  -0.985 0.324779    \n",
       "RegionOther            4.108647   0.448757   9.156  < 2e-16 ***\n",
       "`RegionSouth America` -0.185120   0.275396  -0.672 0.501629    \n",
       "I2                     0.002305   0.000181  12.737  < 2e-16 ***\n",
       "---\n",
       "Signif. codes:  0 '***' 0.001 '**' 0.01 '*' 0.05 '.' 0.1 ' ' 1\n",
       "\n",
       "Residual standard error: 2.501 on 916 degrees of freedom\n",
       "Multiple R-squared:  0.7364,\tAdjusted R-squared:  0.7341 \n",
       "F-statistic: 319.8 on 8 and 916 DF,  p-value: < 2.2e-16\n"
      ]
     },
     "metadata": {},
     "output_type": "display_data"
    }
   ],
   "source": [
    "summary(model)"
   ]
  }
 ],
 "metadata": {
  "anaconda-cloud": {},
  "kernelspec": {
   "display_name": "R",
   "language": "R",
   "name": "ir"
  },
  "language_info": {
   "codemirror_mode": "r",
   "file_extension": ".r",
   "mimetype": "text/x-r-source",
   "name": "R",
   "pygments_lexer": "r",
   "version": "3.3.2"
  }
 },
 "nbformat": 4,
 "nbformat_minor": 1
}
